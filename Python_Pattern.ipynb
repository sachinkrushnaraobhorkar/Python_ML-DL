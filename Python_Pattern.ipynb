{
  "nbformat": 4,
  "nbformat_minor": 0,
  "metadata": {
    "colab": {
      "name": "Python_Pattern.ipynb",
      "provenance": [],
      "collapsed_sections": []
    },
    "kernelspec": {
      "name": "python3",
      "display_name": "Python 3"
    },
    "language_info": {
      "name": "python"
    }
  },
  "cells": [
    {
      "cell_type": "code",
      "execution_count": 3,
      "metadata": {
        "colab": {
          "base_uri": "https://localhost:8080/"
        },
        "id": "pMuEEhSWptrq",
        "outputId": "6c5f7a2c-eaa8-4360-a7a4-b8dd72815d9f"
      },
      "outputs": [
        {
          "output_type": "stream",
          "name": "stdout",
          "text": [
            "           #\n",
            "          ###\n",
            "         #####\n",
            "        #######\n",
            "       #########\n",
            "      ###########\n",
            "     #############\n",
            "    ###############\n",
            "   #################\n",
            "  ###################\n",
            " #####################\n",
            "  ###################\n",
            "   #################\n",
            "    ###############\n",
            "     #############\n",
            "      ###########\n",
            "       #########\n",
            "        #######\n",
            "         #####\n",
            "          ###\n",
            "           #\n"
          ]
        }
      ],
      "source": [
        "for i in range(10):\n",
        "   print(\" \"*(10-i),\"#\"*(2*i+1))\n",
        "    \n",
        "for j in range(10,-1,-1):\n",
        "\n",
        "    print(\" \"*(10-j),\"#\"*(2*j+1))"
      ]
    }
  ]
}